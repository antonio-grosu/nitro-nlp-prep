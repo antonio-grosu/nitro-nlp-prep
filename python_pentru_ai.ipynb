{
  "cells": [
    {
      "cell_type": "markdown",
      "metadata": {
        "id": "Xz1MP2sZ2oEm"
      },
      "source": [
        "# Python pentru AI - Nitro NLP Workshop\n",
        "Python este unul dintre cele mai populare limbaje de programare. Ușurința cu care scrii cod, forma prietenoasă și varietatea bibliotecilor sale sunt doar câteva dintre motivele pentru care a câștigat rapid popularitate.\n",
        "\n",
        "În acest notebook, vom învăța câteva concepte de bază despre Python pentru a-l putea folosi în proiectele noastre de AI."
      ]
    },
    {
      "cell_type": "markdown",
      "metadata": {
        "id": "opRdxV0p5AkT"
      },
      "source": [
        "# 1. List and dictionary comprehension\n",
        "\n",
        "Această tehnică permite construirea concisă a unei liste sau a unui dicționar, de obicei chiar într-un singur rând. Cunoașterea acesteia este esențială pentru înțelegerea codului Python, deoarece se aliniază paradigmei „pitonice” de a scrie cod clar și concis. Comparativ cu C++, acest stil este mai compact, dar uneori poate părea mai puțin explicit.\n",
        "\n"
      ]
    },
    {
      "cell_type": "markdown",
      "metadata": {
        "id": "IVi1iUMK5CiL"
      },
      "source": [
        "# 1.1 Teorie"
      ]
    },
    {
      "cell_type": "code",
      "execution_count": 2,
      "metadata": {
        "id": "L4NlA3Pp010O"
      },
      "outputs": [
        {
          "name": "stdout",
          "output_type": "stream",
          "text": [
            "[1, 4, 9, 16, 25]\n",
            "[1, 4, 9, 16, 25]\n"
          ]
        }
      ],
      "source": [
        "# Să presupunem că vrem să luăm o listă și să ridicăm fiecare element al său la puterea a doua\n",
        "# Am putea scrie o funcție simplă pentru a rezolva această problemă:\n",
        "\n",
        "def get_patrate(lista):\n",
        "    patrate_lista = []\n",
        "    for x in lista:\n",
        "        patrate_lista.append(x**2)\n",
        "    return patrate_lista\n",
        "\n",
        "\n",
        "lista = [1, 2, 3, 4, 5]\n",
        "print(get_patrate(lista))\n",
        "\n",
        "# Deși această variantă funcționează, necesită destul de mult cod pentru o operație simplă\n",
        "# Hai să vedem cum putem rescrie acest cod folosind list comprehensions:\n",
        "\n",
        "def get_patrate_nou(lista):\n",
        "    patrate_lista = [x ** 2 for x in lista]\n",
        "    return patrate_lista\n",
        "\n",
        "print(get_patrate_nou(lista))\n",
        "# Wow! Codul este mult mai scurt și chiar mai elegant. Hai să încercăm un alt exemplu"
      ]
    },
    {
      "cell_type": "code",
      "execution_count": null,
      "metadata": {
        "id": "ZEeljR1D64iL"
      },
      "outputs": [],
      "source": [
        "# Să presupunem că vrem să aplicăm un hash foarte simplu asupra unei liste de numere,\n",
        "# aplicând operația de modulo cu 666013\n",
        "# Deoarece această operație poate fi lentă dacă este repetată frecvent,\n",
        "# vrem să folosim un dicționar pentru a stoca valorile precalculate\n",
        "\n",
        "# Hai să scriem o funcție pentru asta:\n",
        "def get_hash(lista):\n",
        "    hash_map = {}\n",
        "    for x in lista:\n",
        "        hash_map[x] = x % 666013\n",
        "    return hash_map\n",
        "\n",
        "lista = [1, 666020, 10, 15, 666017]\n",
        "print(get_hash(lista))\n",
        "\n",
        "# La fel ca înainte, codul funcționează, dar îl putem scrie mai concis folosind dictionary comprehensions:\n",
        "def get_hash_nou(lista):\n",
        "    hash_map = {x: x % 666013 for x in lista}\n",
        "    return hash_map\n",
        "\n",
        "print(get_hash_nou(lista))\n",
        "\n",
        "# Încă o dată, am reușit să comprimăm codul într-un mod elegant și simplu"
      ]
    },
    {
      "cell_type": "markdown",
      "metadata": {
        "id": "Rq7cVxDy-y-e"
      },
      "source": [
        "Acum că am înțeles importanța acestei tehnici, să vedem cum funcționează.\n",
        "\n",
        "În primul rând, avem nevoie de o secvență iterabilă, cum ar fi o listă sau un range. Apoi, trebuie să decidem dacă formula noastră necesită o condiție sau nu."
      ]
    },
    {
      "cell_type": "code",
      "execution_count": null,
      "metadata": {
        "id": "i7afPxUG9z_x"
      },
      "outputs": [],
      "source": [
        "# 1. Comprehensions fără condiție\n",
        "# În această formă, mai întâi specificăm forma obiectului, apoi folosim for\n",
        "# pentru a itera prin listă și a genera elementele\n",
        "\n",
        "# Spre exemplu, o listă cu pătratele numerelor de la 1 la 7:\n",
        "lista_patrate = [x ** 2 for x in range(1, 8)]\n",
        "print(lista_patrate)\n",
        "\n",
        "# Sau un dicționar cu hash-urile unei liste:\n",
        "lista = [1, 666020, 10, 15, 666017]\n",
        "hash_map = {x: x % 666013 for x in lista}\n",
        "print(hash_map)\n"
      ]
    },
    {
      "cell_type": "code",
      "execution_count": null,
      "metadata": {
        "id": "JgPKUDDT_jK9"
      },
      "outputs": [],
      "source": [
        "# 2. Comprehensions cu if, dar fără else\n",
        "# Comparativ cu cele fără condiție, aici adăugăm un if la final, urmat de condiția dorită\n",
        "\n",
        "# Spre exemplu, o listă care reține doar multiplii de 5 dintr-o altă listă:\n",
        "lista = [3, 10, 8, 5, 5]\n",
        "multiplii_5 = [x for x in lista if x % 5 == 0]\n",
        "print(multiplii_5)\n"
      ]
    },
    {
      "cell_type": "code",
      "execution_count": null,
      "metadata": {
        "id": "E3VqrEITAzzU"
      },
      "outputs": [],
      "source": [
        "# 3. Comprehensions cu if și else\n",
        "# Similar celor fără condiție, mai întâi specificăm expresia, apoi folosim un for\n",
        "# Aici, expresia va avea forma: valoare_dacă_adevărat if condiție else valoare_dacă_fals\n",
        "\n",
        "# Spre exemplu, un dicționar în care fiecare element dintr-o listă de vârste va fi o cheie,\n",
        "# iar valoarea asociată va fi 'MAJOR' dacă vârsta este de cel puțin 18 ani, altfel 'MINOR'.\n",
        "lista = [12, 20, 27, 31, 8]\n",
        "stare = {x: 'MAJOR' if x >= 18 else 'MINOR' for x in lista}\n",
        "print(stare)\n"
      ]
    },
    {
      "cell_type": "markdown",
      "metadata": {
        "id": "kQH8u5zlEzLf"
      },
      "source": [
        "# 1.2 Exerciții"
      ]
    },
    {
      "cell_type": "code",
      "execution_count": null,
      "metadata": {
        "id": "Rxya_XBeKoW5"
      },
      "outputs": [],
      "source": [
        "# 1. Creați o listă nouă cu ultimele cifre ale fiecărui număr din lista de mai jos\n",
        "lista = [15, 29, 13, 27, 41]\n",
        "sol = []\n",
        "print(sol)"
      ]
    },
    {
      "cell_type": "code",
      "execution_count": null,
      "metadata": {
        "id": "ffwnjhp3KJ2m"
      },
      "outputs": [],
      "source": [
        "# 2. Fiind dată o listă de numere naturale, creați o altă listă în care pentru fiecare element din lista originală\n",
        "# să rețină 'DA' dacă numărul este par, în caz contrar, 'NU'\n",
        "lista = [10, 3, 8, 6, 5, 7]\n",
        "sol = []\n",
        "print(sol)"
      ]
    },
    {
      "cell_type": "code",
      "execution_count": null,
      "metadata": {
        "id": "UKutp6RpItG3"
      },
      "outputs": [],
      "source": [
        "# 3. Pe baza unei liste, creați o altă listă care conține doar elementele aflate pe pozițiile de forma 3k + 2\n",
        "lista = [0, 1, 2, 3, 4, 5, 6, 7, 8]\n",
        "sol = []\n",
        "print(sol)"
      ]
    },
    {
      "cell_type": "code",
      "execution_count": null,
      "metadata": {
        "id": "rCVzk9Y5H3su"
      },
      "outputs": [],
      "source": [
        "# 4. Pentru a antrena un model, sunt necesare două dicționare: id2label și label2id\n",
        "# Creați aceste două dicționare, știind că label2id are forma {label: poziția în șir},\n",
        "# iar id2label are forma {poziția în șir: label}.\n",
        "\n",
        "labels = ['cat', 'dog', 'car', 'duck', 'airplane', 'train', 'teddy bear']\n",
        "label2id = {}\n",
        "id2label = {}\n",
        "print(label2id, id2label)"
      ]
    },
    {
      "cell_type": "code",
      "execution_count": null,
      "metadata": {
        "id": "fVNQNvpME1WW"
      },
      "outputs": [],
      "source": [
        "# 5. Dat fiind un șir de caractere, s,\n",
        "# generați o listă, litere, care să conțină fiecare caracter din s cu majusculele și minusculele inversate.\n",
        "# hint: Folosiți funcțiile islower() și isupper() pentru a determina tipul fiecărei litere\n",
        "# și funcțiile lower() și upper() pentru a le transforma în minusculă, respectiv majusculă.\n",
        "\n",
        "s = \"Succes la NITRO NLP!\"\n",
        "litere = []\n",
        "print(litere)"
      ]
    },
    {
      "cell_type": "markdown",
      "metadata": {
        "id": "ElTjjnrMne7D"
      },
      "source": [
        "# 2. NumPy\n",
        "\n",
        "NumPy este o bibliotecă fundamentală pentru Python, folosită pentru calcule matematice pe array-uri multidimensionale și nu numai. Pe lângă o sintaxă elegantă, oferă și o îmbunătățire semnificativă a timpului de rulare, datorită vectorizării operațiilor. Fără această optimizare, multe calcule ar deveni impracticabile, având timpi de execuție mult prea mari."
      ]
    },
    {
      "cell_type": "markdown",
      "metadata": {
        "id": "KRfBTZwTpAoE"
      },
      "source": [
        "# 2.1 Array-uri in NumPy"
      ]
    },
    {
      "cell_type": "code",
      "execution_count": null,
      "metadata": {
        "id": "jnLl4GUXEKcZ"
      },
      "outputs": [],
      "source": [
        "import numpy as np  # 'as' se folosește după un import pentru a defini un 'alias'.\n",
        "# Astfel, în loc să scriem numpy de fiecare dată, vom folosi np pentru a apela funcțiile bibliotecii\n",
        "\n",
        "# În NumPy, toate operațiile se fac pe array-uri\n",
        "x = np.array([5, 9, 4])\n",
        "y = np.array([3, 2, 6])\n",
        "\n",
        "print(\"x:\", x)\n",
        "print(\"y:\", y)"
      ]
    },
    {
      "cell_type": "code",
      "execution_count": null,
      "metadata": {
        "id": "lND2Yjmeplcp"
      },
      "outputs": [],
      "source": [
        "# Mai întâi, să aflăm câte ceva despre aceste array-uri\n",
        "\n",
        "print(x.shape)  # Putem vedea că x este un șir cu 3 elemente\n",
        "print(x.size)   # Putem vedea dimensiunea lui x\n",
        "print(x.ndim)   # Câte dimensiuni are x?"
      ]
    },
    {
      "cell_type": "code",
      "execution_count": null,
      "metadata": {
        "id": "ZxMq_PAGpnMz"
      },
      "outputs": [],
      "source": [
        "# Deocamdată, array-urile din NumPy nu par foarte diferite de listele obișnuite din Python,\n",
        "# însă biblioteca NumPy oferă multe funcții utile.\n",
        "\n",
        "suma = x + y  # Putem aduna două array-uri element cu element\n",
        "print(suma)\n",
        "\n",
        "diferenta = x - y  # Putem calcula diferența element cu element\n",
        "print(diferenta)\n",
        "\n",
        "produs_per_element = x * y  # Putem înmulți elementele corespunzătoare din cele două array-uri\n",
        "print(produs_per_element)\n",
        "\n",
        "dot_product = x.dot(y)  # Putem calcula produsul scalar (dot product) între cele două array-uri\n",
        "print(dot_product)"
      ]
    },
    {
      "cell_type": "code",
      "execution_count": null,
      "metadata": {
        "id": "pUpv9u0Xpwho"
      },
      "outputs": [],
      "source": [
        "# NumPy nu doar că simplifică operațiile între două array-uri, ci și prelucrarea fiecărui element în parte.\n",
        "\n",
        "x = np.array([1, 2, 3, 4, 5])\n",
        "\n",
        "print(x + 7)  # Pot aduna o constantă la fiecare element din x.\n",
        "print(x * 4.5)  # Pot înmulți fiecare element cu o constantă.\n",
        "print(x ** 3)  # Pot ridica fiecare element la o putere.\n",
        "print(x ** 2 + 2 * x + 1)  # Pot combina aceste operații într-o expresie matematică."
      ]
    },
    {
      "cell_type": "code",
      "execution_count": null,
      "metadata": {
        "id": "AEhIg72LqLFW"
      },
      "outputs": [],
      "source": [
        "# NumPy oferă funcții integrate pentru a efectua diverse operații pe array-uri. De exemplu:\n",
        "\n",
        "x = np.array([5, 10, 2, 7, 15])\n",
        "\n",
        "suma = np.sum(x)  # Suma elementelor din array\n",
        "print(suma)\n",
        "\n",
        "medie = np.mean(x)  # Media aritmetică a elementelor\n",
        "print(medie)\n",
        "\n",
        "median = np.median(x)  # Mediana (elementul din mijloc, după sortare)\n",
        "print(median)\n",
        "\n",
        "std = np.std(x)  # Deviația standard a elementelor\n",
        "print(std)\n",
        "\n",
        "minn, maxx = np.min(x), np.max(x)  # Valoarea minimă și maximă din array\n",
        "print(minn, maxx)\n",
        "\n",
        "poz_min, poz_max = np.argmin(x), np.argmax(x)  # Indicii elementelor minim și maxim\n",
        "print(poz_min, poz_max)"
      ]
    },
    {
      "cell_type": "markdown",
      "metadata": {
        "id": "7fcWresUqYNN"
      },
      "source": [
        "# 2.2 Matrice în NumPy"
      ]
    },
    {
      "cell_type": "code",
      "execution_count": null,
      "metadata": {
        "id": "cZYVBXBXqfxf"
      },
      "outputs": [],
      "source": [
        "# Un aspect important: NumPy se descurcă excelent cu matrici și alte structuri multidimensionale\n",
        "\n",
        "A = np.array([[6, 1, 8], [5, 5, 4]])\n",
        "B = np.array([[3, 2], [7, 9], [9, 2]])\n",
        "\n",
        "print(A, '\\n -------- \\n', B)"
      ]
    },
    {
      "cell_type": "code",
      "execution_count": null,
      "metadata": {
        "id": "Hb0YPuiksUFD"
      },
      "outputs": [],
      "source": [
        "transpusa = A.T  # Așa aflăm transpusa unei matrice\n",
        "print(transpusa)"
      ]
    },
    {
      "cell_type": "code",
      "execution_count": null,
      "metadata": {
        "id": "fvjIX-lVsenG"
      },
      "outputs": [],
      "source": [
        "# Putem înmulți matricele folosind operatorul '@' sau funcția .dot()\n",
        "prod = A @ B  # sau prod = A.dot(B)\n",
        "print(prod)"
      ]
    },
    {
      "cell_type": "code",
      "execution_count": null,
      "metadata": {
        "id": "Ynlo7bKhst4b"
      },
      "outputs": [],
      "source": [
        "# Funcțiile de la array-urile unidimensionale funcționează și pe matrice\n",
        "suma = np.sum(A)  # suma tuturor elementelor matricei A\n",
        "print(suma)\n",
        "\n",
        "# Totuși, adesea vom avea nevoie de suma pe rânduri sau pe coloane. Pentru asta, folosim argumentul axis\n",
        "suma_pe_randuri = np.sum(A, axis=1)  # Cum știți ce să puneți aici? Ei bine, vă gândiți ce axă vreți să eliminați\n",
        "suma_pe_coloane = np.sum(A, axis=0)  # În cazul coloanelor, a trebuit să eliminăm rândurile (axa 0) ca să rămânem cu coloanele\n",
        "print(suma_pe_randuri, suma_pe_coloane)\n",
        "\n",
        "# În mod identic se procedează și cu celelalte funcții"
      ]
    },
    {
      "cell_type": "markdown",
      "metadata": {
        "id": "c5ry__Oes2LB"
      },
      "source": [
        "# 2.3 Alte funcții folositoare in NumPy"
      ]
    },
    {
      "cell_type": "code",
      "execution_count": null,
      "metadata": {
        "id": "SDKnC8oPtAMQ"
      },
      "outputs": [],
      "source": [
        "# De multe ori, va fi nevoie să schimbăm forma unui array în numpy\n",
        "# Ei bine, biblioteca face acest proces foarte simplu\n",
        "\n",
        "# Să zicem că vrem să transformăm array-ul x dintr-un șir cu 6 elemente într-o matrice de forma (2, 3)\n",
        "x = np.array([1, 2, 3, 4, 5, 6])\n",
        "print(x, x.shape)\n",
        "\n",
        "# Folosim funcția reshape cu tuplul (2, 3) ca argument pentru a-i schimba forma într-o matrice de 2x3\n",
        "x = x.reshape((2, 3))\n",
        "print(x, x.shape)\n",
        "\n",
        "# Poți folosi -1 pentru a \"aplatiza\" array-ul și a scăpa de dimensiunile neprecizate\n",
        "x = x.reshape(-1)\n",
        "print(x)"
      ]
    },
    {
      "cell_type": "code",
      "execution_count": null,
      "metadata": {
        "id": "1PgVwXGFtrad"
      },
      "outputs": [],
      "source": [
        "# Numpy este foarte folositor și pentru generarea rapidă de date sintetice. Hai să vedem câteva exemple\n",
        "\n",
        "# Funcția linspace generează 11 numere egal distanțate în intervalul [0, 5]\n",
        "x = np.linspace(0, 5, 11)\n",
        "print(x)\n",
        "\n",
        "# Funcția arange este asemănătoare cu linspace, dar primește pasul ca argument în loc de numărul de elemente\n",
        "# Atenție: arange NU include sfârșitul intervalului!\n",
        "x = np.arange(0, 5, 0.5)  # Generează numere de la 0 la 5 (fără 5) cu pasul 0.5\n",
        "print(x)\n",
        "\n",
        "# Cu random.randint, putem genera un șir de 15 numere întregi aleatoare în intervalul [0, 100)\n",
        "x = np.random.randint(0, 100, 15)\n",
        "print(x)\n",
        "\n",
        "# random.rand generează un șir de 15 numere de tip float aleatoare în intervalul [0, 1)\n",
        "x = np.random.rand(15)\n",
        "print(x)\n",
        "\n",
        "# Putem genera și date dintr-o distribuție normală\n",
        "mu, sigma = 0, 0.1  # media (mu) și deviația standard (sigma)\n",
        "s = np.random.normal(mu, sigma, 15)  # Generează 1000 de numere cu media 0 și deviația standard 0.1\n",
        "print(s)"
      ]
    },
    {
      "cell_type": "code",
      "execution_count": null,
      "metadata": {
        "id": "_FB8UnYvu0EE"
      },
      "outputs": [],
      "source": [
        "# Funcția np.ones este folosită pentru a genera un șir de 1-uri de lungime 10\n",
        "unu = np.ones(10)\n",
        "print(unu)\n",
        "\n",
        "# Funcția np.zeros este folosită pentru a genera un șir de 0-uri de lungime 10\n",
        "zero = np.zeros(10)\n",
        "print(zero)\n",
        "\n",
        "# Dacă avem o matrice existentă, putem genera o matrice de 1-uri cu aceeași formă folosind np.ones_like\n",
        "# sau de 0-uri folosind np.zeros_like\n",
        "A = np.array([[1, 2, 3], [4, 5, 6]])\n",
        "unu_A = np.ones_like(A)  # Generează o matrice de 1-uri cu aceeași formă ca A\n",
        "zero_A = np.zeros_like(A) # Generează o matrice de 0-uri cu aceeași formă ca A\n",
        "print(unu_A, zero_A)"
      ]
    },
    {
      "cell_type": "markdown",
      "metadata": {
        "id": "90RitCLhvRL9"
      },
      "source": [
        "# 2.4 Indexare și slicing\n",
        "\n",
        "Este important să înțelegem cum funcționează accesarea submatricelor în NumPy, deoarece este un concept foarte des întâlnit."
      ]
    },
    {
      "cell_type": "code",
      "execution_count": null,
      "metadata": {
        "id": "X5RTZNT5vVAb"
      },
      "outputs": [],
      "source": [
        "# Pentru început, vom crea o matrice A de dimensiune (5, 5) cu elemente numere de la 1 la 25\n",
        "A = np.arange(1, 26, 1).reshape((5, 5))\n",
        "print(A)"
      ]
    },
    {
      "cell_type": "code",
      "execution_count": null,
      "metadata": {
        "id": "je_YzFJ2wLbv"
      },
      "outputs": [],
      "source": [
        "# Mai întâi, să accesăm elementul de pe al 3-lea rând și a 4-a coloană\n",
        "print(A[2][3])  # În Python, indexarea începe de la 0, iar în NumPy este la fel. Astfel, elementul de pe poziția (2, 3) este cel căutat."
      ]
    },
    {
      "cell_type": "code",
      "execution_count": null,
      "metadata": {
        "id": "LC-wVwApwUu4"
      },
      "outputs": [],
      "source": [
        "# Cum selectăm rânduri sau coloane în NumPy? Ei bine:\n",
        "\n",
        "# Selectarea unui rând se face la fel ca în Python\n",
        "primul_rand = A[0]  # Aici selectăm primul rând (indexul 0)\n",
        "print(primul_rand)\n",
        "\n",
        "# Selectarea unei coloane se face folosind notația ':' pentru a specifica toate rândurile\n",
        "a_treia_coloana = A[:, 2]  # ':' înseamnă \"toate rândurile\", iar 2 este indexul coloanei\n",
        "print(a_treia_coloana)\n",
        "\n",
        "# Deși nu este necesar, putem folosi ':' și pentru rânduri, pentru o înțelegere mai clară\n",
        "primul_rand = A[0, :]  # Pentru primul rând, vreau fiecare coloană\n",
        "print(primul_rand)"
      ]
    },
    {
      "cell_type": "code",
      "execution_count": null,
      "metadata": {
        "id": "TRfDUuBTwcaC"
      },
      "outputs": [],
      "source": [
        "# Cum selectăm o submatrice? Ei bine, va trebui să specificăm intervalul folosind ':'\n",
        "# Să zicem că vrem să selectăm submatricea cu colțul stânga-sus la (1, 2) și colțul dreapta-jos la (4, 3). Atunci:\n",
        "submatrice = A[1:5, 2:4]  # Mă interesează rândurile 1, 2, 3 și 4 (1:5) și pentru fiecare rând coloanele 2 și 3 (2:4)\n",
        "print(submatrice)"
      ]
    },
    {
      "cell_type": "code",
      "execution_count": null,
      "metadata": {
        "id": "VgP7N2ivw7La"
      },
      "outputs": [],
      "source": [
        "# Se poate realiza și selectarea mai multor rânduri sau coloane 'fixe'. De exemplu:\n",
        "\n",
        "B = A[[0, 1, 4]]  # Păstrez din A rândurile 0, 1 și 4\n",
        "print(B)\n",
        "\n",
        "C = A[:, [1, 2, 4]]  # Păstrez din A coloanele 1, 2 și 4\n",
        "print(C)"
      ]
    },
    {
      "cell_type": "code",
      "execution_count": null,
      "metadata": {
        "id": "X1EpAvbzxHVL"
      },
      "outputs": [],
      "source": [
        "# Pentru a combina selectarea unor rânduri fixe și a unor coloane fixe, este nevoie de slicing avansat\n",
        "\n",
        "# Definim rândurile și coloanele pe care vrem să le selectăm\n",
        "randuri = [0, 1, 4]\n",
        "coloane = [1, 2, 4]\n",
        "\n",
        "# Folosim np.ix_ pentru a selecta combinația dorită de rânduri și coloane\n",
        "M = A[np.ix_(randuri, coloane)]  # Păstrez elementele de pe rândurile 0, 1 și 4, care se află pe coloanele 1, 2 sau 4\n",
        "print(M)"
      ]
    },
    {
      "cell_type": "code",
      "execution_count": null,
      "metadata": {
        "id": "TFrjy0A73YB9"
      },
      "outputs": [],
      "source": [
        "# Nu în ultimul rând, avem selectarea unor elemente pe baza unei condiții\n",
        "\n",
        "# Creăm o matrice A de dimensiune 3x3 cu elemente de la 1 la 9\n",
        "A = np.arange(1, 10).reshape(3, 3)\n",
        "\n",
        "# Să zicem că vrem să găsim toți multiplii de 2 din matricea A\n",
        "# Putem folosi ca index array-ul de adevăr A % 2 == 0\n",
        "print(A, '\\n-------------\\n', A % 2 == 0)\n",
        "# Observăm că A % 2 == 0 are aceeași formă ca A, iar rezultatul este o matrice de valori booleene (True/False)\n",
        "\n",
        "# Selectăm elementele din A care îndeplinesc condiția (A % 2 == 0)\n",
        "multiplii_2 = A[A % 2 == 0]\n",
        "print(multiplii_2)\n",
        "# Observăm că multiplii_2 este un array care conține toate elementele care erau pe poziții de 'True'"
      ]
    },
    {
      "cell_type": "markdown",
      "metadata": {
        "id": "WlFmpAKsxkqe"
      },
      "source": [
        "# 2.5 De ce NumPy?\n",
        "\n",
        "Până acum am explorat doar cum ne face viața mai ușoară, dar nu am spus nimic despre viteza bibliotecii. Mai jos, o să demonstrez prin câteva exemple practice de ce operațiile vectorizate oferite de NumPy sunt absolut necesare."
      ]
    },
    {
      "cell_type": "code",
      "execution_count": null,
      "metadata": {
        "id": "0OdcmKE2xzLo"
      },
      "outputs": [],
      "source": [
        "# Suma elementelor cu un for versus folosind np.sum()\n",
        "\n",
        "def media_elementelor_fara_np(x):\n",
        "    media = 0\n",
        "    for nr in x:\n",
        "        media += nr\n",
        "    media /= len(x)\n",
        "    return media\n",
        "\n",
        "def media_elementelor_np(x):\n",
        "  return np.mean(x)"
      ]
    },
    {
      "cell_type": "code",
      "execution_count": null,
      "metadata": {
        "id": "bXn8WkQBx7by"
      },
      "outputs": [],
      "source": [
        "x = np.random.rand(10000000)"
      ]
    },
    {
      "cell_type": "code",
      "execution_count": null,
      "metadata": {
        "id": "VQrv7A7Nx88i"
      },
      "outputs": [],
      "source": [
        "%%timeit\n",
        "media_elementelor_fara_np(x)"
      ]
    },
    {
      "cell_type": "code",
      "execution_count": null,
      "metadata": {
        "id": "NkoxsquTx_Iw"
      },
      "outputs": [],
      "source": [
        "%%timeit\n",
        "media_elementelor_np(x)"
      ]
    },
    {
      "cell_type": "code",
      "execution_count": null,
      "metadata": {
        "id": "GsW3fKFRyUVm"
      },
      "outputs": [],
      "source": [
        "def inmultire_matrice_fara_np(A, B):\n",
        "    if A.shape[1] != B.shape[0]:\n",
        "        return False\n",
        "\n",
        "    N, M, K = A.shape[0], B.shape[1], A.shape[1]\n",
        "    C = [[0 for i in range(N)] for j in range(M)]\n",
        "    for i in range(N):\n",
        "        for j in range(M):\n",
        "            for k in range(K):\n",
        "                C[i][j] += A[i][k] * B[k][j]\n",
        "    return C\n",
        "\n",
        "\n",
        "def inmultire_matrice_np(A, B):\n",
        "    if A.shape[1] != B.shape[0]:\n",
        "        return False\n",
        "    return A @ B"
      ]
    },
    {
      "cell_type": "code",
      "execution_count": null,
      "metadata": {
        "id": "vXTcxR4FyvRp"
      },
      "outputs": [],
      "source": [
        "A = np.random.rand(10000).reshape(100, 100)\n",
        "B = np.random.rand(10000).reshape(100, 100)"
      ]
    },
    {
      "cell_type": "code",
      "execution_count": null,
      "metadata": {
        "id": "vy138n79y1FA"
      },
      "outputs": [],
      "source": [
        "%%timeit\n",
        "inmultire_matrice_fara_np(A, B)"
      ]
    },
    {
      "cell_type": "code",
      "execution_count": null,
      "metadata": {
        "id": "WVm8FsMCy2ov"
      },
      "outputs": [],
      "source": [
        "%%timeit\n",
        "inmultire_matrice_np(A, B)"
      ]
    },
    {
      "cell_type": "markdown",
      "metadata": {
        "id": "325eome_zfMw"
      },
      "source": [
        "Wow! Suma elementelor a fost de aproximativ **100** de ori mai rapidă, iar înmulțirea matricelor a fost de aproape **10.000** de ori mai rapidă! Pe lângă factorul de viteză, codul a fost și mult, mult mai scurt și elegant. NumPy nu doar că optimizează calculele, dar și face codul mai ușor de citit și de întreținut.\n",
        "\n",
        "Din acest motiv, NumPy nu trebuie să lipsească din arsenalul niciunui utilizator de Python, mai ales atunci când lucrezi cu date numerice sau calcule matematice complexe. Este o unealtă esențială pentru orice proiect care implică analiza de date, învățare automată, sau simulări științifice."
      ]
    },
    {
      "cell_type": "markdown",
      "metadata": {
        "id": "PXU3sFyw5NRV"
      },
      "source": [
        "# 2.6 Exerciții"
      ]
    },
    {
      "cell_type": "code",
      "execution_count": null,
      "metadata": {
        "id": "1Hdtuj472XSd"
      },
      "outputs": [],
      "source": [
        "# 1. Generați un sir, x, de 25 de elemente intregi aflate în intervalul [5, 30] și aflați:\n",
        "# minimul, maximul, media, mediana și deviația standard a elementelor din sir"
      ]
    },
    {
      "cell_type": "code",
      "execution_count": null,
      "metadata": {
        "id": "vcrhAEtJntFd"
      },
      "outputs": [],
      "source": [
        "# 2. Folosind sirul x de la exercițiul 1, transformați-l într-o matrice de marime (5, 5) și afișați:\n",
        "#    a) elementul de pe poziția (2, 3)\n",
        "#    b) a doua coloană\n",
        "#    c) suma elementelor de pe diagonala principală"
      ]
    },
    {
      "cell_type": "code",
      "execution_count": null,
      "metadata": {
        "id": "e9PjisV8nubL"
      },
      "outputs": [],
      "source": [
        "# 3. Creați o matrice A de marime (4, 4) cu elemente random de tip întreg cu valori aflate în intervalul [1, 50]\n",
        "#    a) afișați suma elementelor de pe fiecare rând\n",
        "#    b) afișați produsul elementelor de pe fiecare coloană\n",
        "#    c) extrageți submatricea cu colțul stânga sus (1, 1) și colțul dreapta jos (3, 3)"
      ]
    },
    {
      "cell_type": "code",
      "execution_count": null,
      "metadata": {
        "id": "4JUEXIFZn3Ub"
      },
      "outputs": [],
      "source": [
        "# 4. Creați două matrici B și C de marime (3, 3) cu elemente random întregi în intervalul [1, 10] și realizați:\n",
        "#    a) suma matricelor\n",
        "#    b) produsul element cu element\n",
        "#    c) produsul matriceal\n",
        "#    d) transpusa matricei rezultate la punctul c)"
      ]
    },
    {
      "cell_type": "code",
      "execution_count": null,
      "metadata": {
        "id": "6v0WSDR4oNIR"
      },
      "outputs": [],
      "source": [
        "# 5. Recreați această matrice fără a scrie vreun for:\n",
        "# [[ 1  2  5  4  5]\n",
        "#  [ 6  7  10  9 10]\n",
        "#  [13 14 15 16 17]\n",
        "#  [16 17 17 19 20]\n",
        "#  [21 22 25 24 25]]"
      ]
    },
    {
      "cell_type": "markdown",
      "metadata": {
        "id": "AqWVAslnrmvT"
      },
      "source": [
        "# 3. Pandas\n",
        "\n",
        "**Pandas** este o bibliotecă pentru analiza datelor, care oferă structuri precum **DataFrame** și **Series** pentru organizarea și manipularea datelor tabulare.  \n",
        "\n",
        "În această secțiune a tutorialului, vom folosi un set de date din **Nitro AI Warmup Round**, care conține informații despre jocuri de pe Steam. Vă voi prezenta câteva funcții utile pe care le puteți folosi pentru a lucra cu un **DataFrame**.  \n",
        "\n",
        "Fișierul **steam_data.csv** se află în același repository și trebuie adăugat în notebook înainte de a putea fi utilizat în cod."
      ]
    },
    {
      "cell_type": "markdown",
      "metadata": {
        "id": "7kuF3asSskJQ"
      },
      "source": [
        "# 3.1 Familiarizarea cu setul de date  \n",
        "\n",
        "Înainte de a începe orice proiect, este esențial să înțelegem datele cu care vom lucra. Din fericire, **Pandas** ne simplifică această sarcină!"
      ]
    },
    {
      "cell_type": "code",
      "execution_count": null,
      "metadata": {
        "id": "mIwmueNQrmXN"
      },
      "outputs": [],
      "source": [
        "import pandas as pd  # Folosim un alias, la fel ca în NumPy, pentru a scurta numele bibliotecii\n",
        "\n",
        "# În pandas, vom lucra de cele mai multe ori cu date citite dintr-un fișier de tip CSV\n",
        "# Pentru a citi dintr-un astfel de fișier, folosim comanda read_csv\n",
        "df = pd.read_csv('steam_data.csv') # Numele de df este adesea folosit, întrucat este prescurtarea de la DataFrame"
      ]
    },
    {
      "cell_type": "code",
      "execution_count": null,
      "metadata": {
        "id": "3Dkx3g2vtMnt"
      },
      "outputs": [],
      "source": [
        "# Acum că am introdus setul de date in notebook, haideti să îl și vedem\n",
        "\n",
        "df.head(10) # folosind funcția head(n) putem vedea primele n filme din setul de date"
      ]
    },
    {
      "cell_type": "markdown",
      "metadata": {
        "id": "4BsmNMovvoD1"
      },
      "source": [
        "Un DataFrame este, de fapt, doar un tabel cu un nume mai pompos.\n",
        "Este o structură de date tabulară, similară cu o foaie de calcul din excel.\n",
        "Are rânduri (observații) și coloane (variabile sau caracteristici).\n",
        "\n",
        "De exemplu, `df` este un DataFrame care conține datele noastre din fișierul CSV."
      ]
    },
    {
      "cell_type": "code",
      "execution_count": null,
      "metadata": {
        "id": "9g6pLbovtndn"
      },
      "outputs": [],
      "source": [
        "# Acum că ne-am făcut o primă impresie asupra setului de date, este momentul să studiem fiecare coloană în parte\n",
        "# Pentru a găsi numele coloanelor, putem accesa atributul columns al DataFrame-ului df\n",
        "\n",
        "df.columns"
      ]
    },
    {
      "cell_type": "code",
      "execution_count": null,
      "metadata": {
        "id": "4NtpkDR0uMEM"
      },
      "outputs": [],
      "source": [
        "# Hai să vedem și ce tip de date folosește fiecare coloană.\n",
        "\n",
        "# Funcția `info()` oferă informații utile, cum ar fi:\n",
        "# numărul de elemente non-nule de pe fiecare coloană și tipul de date al acestora.\n",
        "df.info()"
      ]
    },
    {
      "cell_type": "code",
      "execution_count": null,
      "metadata": {
        "id": "8kh2IuV1uqlt"
      },
      "outputs": [],
      "source": [
        "# Funcția describe() ne oferă un rezumat matematic al coloanelor numerice.\n",
        "# Ea calculează statistici precum media, deviația standard, valorile minime și maxime, precum și quartilele.\n",
        "\n",
        "df.describe()"
      ]
    },
    {
      "cell_type": "markdown",
      "metadata": {
        "id": "LaFcuyuZvbNu"
      },
      "source": [
        "# 3.2 Lucrul simplu cu datele"
      ]
    },
    {
      "cell_type": "code",
      "execution_count": null,
      "metadata": {
        "id": "s1luby9UvJyY"
      },
      "outputs": [],
      "source": [
        "# Pentru a accesa o coloană a unui DataFrame, o putem trata ca și cum ar fi o cheie într-un dicționar\n",
        "# De exemplu, dacă avem o coloană numită \"Price\", o putem accesa astfel:\n",
        "\n",
        "coloana_pret = df['Price']\n",
        "coloana_pret\n",
        "# Aceasta va returna un Series (o listă de valori) care conține toate datele din coloana respectivă"
      ]
    },
    {
      "cell_type": "code",
      "execution_count": null,
      "metadata": {
        "id": "fqE7cBOLxwlL"
      },
      "outputs": [],
      "source": [
        "type(coloana_pret) # Este de tip Series, adică un șir de valori"
      ]
    },
    {
      "cell_type": "code",
      "execution_count": null,
      "metadata": {
        "id": "4BYbizqHyBOg"
      },
      "outputs": [],
      "source": [
        "# Pe coloane putem aplica transformări similare cu cele de pe array-urile din NumPy\n",
        "# De exemplu, putem face operații matematice pe o coloană, cum ar fi cea de preț:\n",
        "\n",
        "df['Price'] ** 2 - 2 * df['Price'] + 1\n",
        "# ATENȚIE! Cu această linie, doar afișăm rezultatul operației, dar nu modificăm coloana Price din df"
      ]
    },
    {
      "cell_type": "markdown",
      "metadata": {
        "id": "WzNJg8kOzUBJ"
      },
      "source": [
        "# 3.3 Augmentarea setului de date\n",
        "\n",
        "Eliminarea, adăugarea și prelucrarea coloanelor"
      ]
    },
    {
      "cell_type": "markdown",
      "metadata": {
        "id": "betV3ZQq1G84"
      },
      "source": [
        "# 3.3.1 Eliminarea coloanelor\n",
        "Nu întotdeauna fiecare coloană va fi folositoare pentru analiza noastră a setului de date.\n",
        "Din acest motiv, este util să putem elimina coloanele care nu ne sunt de folos.\n",
        "Din fericire, în pandas, este foarte ușor să ștergi coloane.\n",
        "\n",
        "De exemplu, să zicem că vrem să prezicem cât va costa un joc.\n",
        "Intuitiv, am crede că numele (`Name`) și ID-ul (`AppID`) jocului nu afectează deloc prețul.\n",
        "Atunci, ar fi bine să eliminăm aceste informații inutile.\n",
        "Astfel, modelul nostru se poate concentra doar pe informațiile relevante.\n",
        "\n",
        "Putem face asta folosind funcția `drop`, care primește ca parametru coloanele pe care vrem să le eliminăm.\n",
        "Parametrul `inplace=True` este necesar pentru ca modificarea să se aplice direct DataFrame-ului `df`."
      ]
    },
    {
      "cell_type": "code",
      "execution_count": null,
      "metadata": {
        "id": "h7LY30Zsy2Vi"
      },
      "outputs": [],
      "source": [
        "df.drop(columns=['AppID', 'Name'], inplace=True)"
      ]
    },
    {
      "cell_type": "markdown",
      "metadata": {
        "id": "Ocq4UsgM1hrS"
      },
      "source": [
        "Copy\n",
        "\n",
        "# 3.3.2 Adăugarea coloanelor\n",
        "\n",
        "Atunci când lucrăm cu un set de date nou, este esențial să observăm ce informații nu ne sunt furnizate direct, dar pot fi extrase din coloanele existente ale tabelului. Aceste informații suplimentare, adăugate modelului, pot face o mare diferență în acuratețea sa finală.\n",
        "\n",
        "Forma curentă a datei de lansare a jocului este nefolositoare, deoarece este stocată ca un șir de caractere (string).\n",
        "Cum prețul jocurilor variază mai degrabă de la an la an, intuitia ne spune că informația utilă ce trebuie extrasă este, de fapt, anul lansării.\n",
        "Așadar, haideți să creăm o nouă coloană numită 'Year', care să rețină anul în care se lansează jocul."
      ]
    },
    {
      "cell_type": "code",
      "execution_count": null,
      "metadata": {
        "id": "tPxAHbk63qiX"
      },
      "outputs": [],
      "source": [
        "# Putem face asta folosind funcția `to_datetime`, care știe să extragă valorile utile dintr-o dată.\n",
        "# Apoi, accesăm atributul `year` din interiorul obiectului rezultat pentru a obține anul.\n",
        "\n",
        "df['Year'] = pd.to_datetime(df['Release date']).dt.year"
      ]
    },
    {
      "cell_type": "markdown",
      "metadata": {
        "id": "cAuO11FJ4egi"
      },
      "source": [
        "# 3.3.3 Prelucrarea coloanelor\n",
        "\n",
        "Uneori, o coloană conține informații folositoare, dar este utilă schimbarea formei ei, pentru a o transforma în ceva ce modelul poate înțelege mai ușor.\n",
        "\n",
        "Spre exemplu, coloana 'Estimated owners' are forma unui interval (de exemplu, \"10000-20000\"),\n",
        "și, din acest motiv, nu ar fi utilă direct pentru un model.\n",
        "O simplificare ar fi să luăm doar media capetelor intervalului.\n",
        "Astfel, transformăm coloana într-un număr pe care modelele îl pot interpreta și folosi.\n",
        "\n",
        "Pentru a face asta, vom folosi o funcție care să extragă capetele intervalului și să calculeze media.\n",
        "\n",
        "În cod, vom folosi funcția `apply`, care va aplica funcția introdusă ca parametru peste fiecare rând din tabel.\n",
        "Aceasta este o metodă foarte puternică pentru a transforma datele dintr-o coloană.\n"
      ]
    },
    {
      "cell_type": "code",
      "execution_count": null,
      "metadata": {
        "id": "Et-a_kWu3yaK"
      },
      "outputs": [],
      "source": [
        "def calculate_average_owners(interval):\n",
        "    # Despărțim intervalul în două părți folosind caracterul '-'\n",
        "    minim, maxim = interval.split('-')\n",
        "    minim = int(minim) # Convertim părțile în numere întregi\n",
        "    maxim = int(maxim)\n",
        "    return (minim + maxim) / 2\n",
        "\n",
        "# Aplicăm funcția pe coloana 'Estimated owners' pentru a modifica coloana\n",
        "df['Estimated owners'] = df['Estimated owners'].apply(calculate_average_owners)\n",
        "# ATENTIE! Functia apply poate fi folosită și pentru a adauga coloane noi"
      ]
    },
    {
      "cell_type": "markdown",
      "metadata": {
        "id": "8M6iec417YHW"
      },
      "source": [
        "# 3.4 Indexarea și filtrarea datelor\n",
        "\n",
        "Voi prezenta trei metode: loc, iloc si apply(din nou)"
      ]
    },
    {
      "cell_type": "markdown",
      "metadata": {
        "id": "VGSexpO7-wjJ"
      },
      "source": [
        "# 3.4.1 df.loc\n",
        "\n",
        "`.loc` se folosește de etichete (numele rândurilor sau ale coloanelor) pentru a selecta date.Este o metodă puternică pentru a accesa și filtra date într-un DataFrame."
      ]
    },
    {
      "cell_type": "code",
      "execution_count": null,
      "metadata": {
        "id": "deg8gAY7_lhJ"
      },
      "outputs": [],
      "source": [
        "# Spre exemplu:\n",
        "# Selectăm toate rândurile și coloana 'Metacritic score'\n",
        "df.loc[:, 'Metacritic score']\n",
        "\n",
        "# Selectăm rândurile de la indexul 0 la 4 și coloanele 'Metacritic score' și 'Price'\n",
        "df.loc[0:4, ['Metacritic score', 'Price']]\n",
        "\n",
        "# Selectăm rândurile unde coloana 'Year' este mai mare decât 2020\n",
        "df.loc[df['Year'] > 2020, :] #OBSERVATIE! putem folosi și condiționale înauntrul lui loc"
      ]
    },
    {
      "cell_type": "markdown",
      "metadata": {
        "id": "fhZ4e0CwAlgN"
      },
      "source": [
        "# 3.4.2 df.iloc\n",
        "\n",
        "`.iloc`, față de `.loc`, se folosește numai de pozițiile numerice ale rândurilor sau ale coloanelor (indici) pentru a selecta date. Este o metodă foarte utilă când vrei să accesezi date bazându-te pe poziții, nu pe etichete.\n"
      ]
    },
    {
      "cell_type": "code",
      "execution_count": null,
      "metadata": {
        "id": "IVW7Geqm_2Ao"
      },
      "outputs": [],
      "source": [
        "# Exemplu de utilizare:\n",
        "# Selectăm primele 5 rânduri și primele 3 coloane\n",
        "df.iloc[0:5, 0:3]\n",
        "\n",
        "# Selectăm rândurile 1, 3, 5 și coloanele 2 și 4\n",
        "df.iloc[[1, 3, 5], [2, 4]]"
      ]
    },
    {
      "cell_type": "markdown",
      "metadata": {
        "id": "DKiFWzQOB1_h"
      },
      "source": [
        "# 3.4.3 df.apply\n",
        "\n",
        "Am văzut cum funcția `apply` poate fi folosită pentru prelucrarea datelor, însă aceasta poate fi folosită și pentru filtrarea datelor. Diferența este că funcția aplicată peste fiecare rând trebuie să returneze o valoare booleană (True/False), care reprezintă condiția după care vrem să filtrăm."
      ]
    },
    {
      "cell_type": "code",
      "execution_count": null,
      "metadata": {
        "id": "V7rH94H8DNmb"
      },
      "outputs": [],
      "source": [
        "# Spre exemplu, să zicem că am vrea să găsim jocurile cu recenzii foarte foarte bune\n",
        "# Să le considerăm pe acestea, cele care au procentul de recenzii pozitive de cel puțin 90%\n",
        "\n",
        "# Definim o funcție care verifică dacă un joc are cel puțin 90% recenzii pozitive\n",
        "# OBSERVATIE! Adăugăm un număr foarte mic (0.0001) la numitor pentru a evita împărțirea la zero\n",
        "\n",
        "def joc_buuun(row):\n",
        "    return row['Positive'] / (row['Positive'] + row['Negative'] + 0.0001) >= 0.90\n",
        "\n",
        "# Aplicăm funcția pe fiecare rând al DataFrame-ului și filtrăm doar rândurile care îndeplinesc condiția\n",
        "jocuri_bune = df[df.apply(joc_buuun, axis=1)]\n",
        "\n",
        "# Afișăm jocurile cu recenzii foarte bune\n",
        "jocuri_bune"
      ]
    },
    {
      "cell_type": "markdown",
      "metadata": {
        "id": "ZFJ-ZLxiD_Sn"
      },
      "source": [
        "# 3.5 Exerciții"
      ]
    },
    {
      "cell_type": "code",
      "execution_count": null,
      "metadata": {
        "id": "CJHUH7vOD1PC"
      },
      "outputs": [],
      "source": [
        "# 1. Creați o coloană nouă 'Parere', care să fie raportul dintre numărul de recenzii pozitive ('Positive')\n",
        "# și numărul de recenzii negative ('Negative'). Adăugați 0.0001 la numitor pentru a evita împărțirea la zero."
      ]
    },
    {
      "cell_type": "code",
      "execution_count": null,
      "metadata": {
        "id": "d8f76SqGNY4N"
      },
      "outputs": [],
      "source": [
        "# 2. Folosind noua coloană creată, găsiți jocurile care se află în extreme:\n",
        "# - Jocuri cu 'Parere' <= 0.10 (foarte multe recenzii negative raportat la cele pozitive).\n",
        "# - Jocuri cu 'Parere' >= 0.90 (foarte multe recenzii pozitive raportat la cele negative)."
      ]
    },
    {
      "cell_type": "code",
      "execution_count": null,
      "metadata": {
        "id": "wKU-rSnWNqyd"
      },
      "outputs": [],
      "source": [
        "# 3. Creați o coloană nouă numită 'este_RPG', care trebuie să fie:\n",
        "# - True pentru jocurile care conțin 'RPG' în coloana 'Genres'.\n",
        "# - False pentru celelalte jocuri.\n",
        "# Apoi, găsiți jocurile care sunt de tip RPG și se află în extreme."
      ]
    },
    {
      "cell_type": "code",
      "execution_count": null,
      "metadata": {
        "id": "bVgp_c1UOHg4"
      },
      "outputs": [],
      "source": [
        "# 4. Găsiți jocurile pentru care opinia criticilor ('Metacritic score') a fost mai rea decât opinia publicului ('Parere').\n",
        "# ATENTIE! Aveți grija la unitățile de măsură"
      ]
    }
  ],
  "metadata": {
    "colab": {
      "provenance": []
    },
    "kernelspec": {
      "display_name": "venv",
      "language": "python",
      "name": "python3"
    },
    "language_info": {
      "codemirror_mode": {
        "name": "ipython",
        "version": 3
      },
      "file_extension": ".py",
      "mimetype": "text/x-python",
      "name": "python",
      "nbconvert_exporter": "python",
      "pygments_lexer": "ipython3",
      "version": "3.13.2"
    }
  },
  "nbformat": 4,
  "nbformat_minor": 0
}
